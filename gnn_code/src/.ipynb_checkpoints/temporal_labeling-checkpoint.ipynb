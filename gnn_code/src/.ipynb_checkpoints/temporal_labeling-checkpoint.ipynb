{
 "cells": [
  {
   "cell_type": "code",
   "execution_count": 1,
   "id": "a79f45a0-e26e-43cf-961c-9a4688471c6b",
   "metadata": {},
   "outputs": [
    {
     "name": "stdout",
     "output_type": "stream",
     "text": [
      "Psycopg2 not installed\n",
      "Ssh tunnel not installed\n",
      "Found no/flawed database config. This is only a problem if you want to use the dasp database!\n"
     ]
    }
   ],
   "source": [
    "%matplotlib inline\n",
    "import json\n",
    "import pandas as pd\n",
    "from data_collection.reddit_user_dataset import RedditUserDataset\n",
    "import numpy as np\n",
    "import os"
   ]
  },
  {
   "cell_type": "code",
   "execution_count": 2,
   "id": "f2ab4b90-b774-4b36-847f-0ecff3299093",
   "metadata": {},
   "outputs": [
    {
     "name": "stdout",
     "output_type": "stream",
     "text": [
      "4150\n"
     ]
    }
   ],
   "source": [
    "# Reading the dataframe\n",
    "\n",
    "file = '../data/reddit_dataset/reddit_corpus_unbalanced_filtered.gzip'\n",
    "redditUserDataset = RedditUserDataset.load_from_file(file, compression='gzip')\n",
    "main_df = redditUserDataset.data_frame\n",
    "print(len(redditUserDataset.data_frame))"
   ]
  },
  {
   "cell_type": "code",
   "execution_count": null,
   "id": "1c879df3-2695-4239-adce-2e0b7b1cacc8",
   "metadata": {},
   "outputs": [],
   "source": [
    "# Filtering the ids\n",
    "final_users = []\n",
    "with open('../data/datasets/final_users.txt') as f:\n",
    "    for line in f:\n",
    "        final_users.append(line.strip())\n",
    "print(len(final_users))\n",
    "redditUserDataset.filter_user_ids(final_users)\n",
    "print(len(redditUserDataset.data_frame))"
   ]
  },
  {
   "cell_type": "code",
   "execution_count": null,
   "id": "df795ad6-c837-494b-acc9-15f56c21a9bd",
   "metadata": {},
   "outputs": [],
   "source": [
    "# Computing the temporal labels\n",
    "\n",
    "def get_monthly_list(SIZE = 16):\n",
    "    return [0] * SIZE\n",
    "\n",
    "users_temporal_labels = {}\n",
    "\n",
    "def monthToIdx(date):\n",
    "    ''' Function to compute the index of the date in a given list using month granularity. Assumes that the range of months is from 2020-2021\n",
    "    '''\n",
    "    add = 0\n",
    "    if date.year < 2020:\n",
    "        return 0\n",
    "    \n",
    "    if date.year == 2021 and date.month > 4:\n",
    "        return -1\n",
    "    \n",
    "    if date.year == 2021:\n",
    "        add = 12\n",
    "\n",
    "    idx = date.month - 1 + add\n",
    "    return idx\n",
    "\n",
    "for index, row in redditUserDataset.data_frame.iterrows():\n",
    "    documents = row['documents']\n",
    "    user_id = row['user_id']\n",
    "    users_temporal_labels[user_id] = get_monthly_list()\n",
    "    \n",
    "    for doc in documents:\n",
    "        if len(doc[-1]) > 0:\n",
    "            date = doc[-3]\n",
    "            labels = doc[-1]\n",
    "            label = 0\n",
    "            \n",
    "            for _, label, _, _ in labels:\n",
    "                if label == 1:\n",
    "                    users_temporal_labels[user_id][monthToIdx(date)] = 1\n",
    "                    break\n",
    "            "
   ]
  },
  {
   "cell_type": "code",
   "execution_count": null,
   "id": "db0191ea-22e6-4048-9196-1b0de7e3fae0",
   "metadata": {},
   "outputs": [],
   "source": [
    "user_ids = []\n",
    "labels = []\n",
    "for index, row in redditUserDataset.data_frame.iterrows():\n",
    "    user_ids.append(row['user_id'])\n",
    "    labels.append(row['fake_news_spreader'])\n",
    "\n",
    "user_ids = np.array(user_ids)\n",
    "labels = np.array(labels)"
   ]
  },
  {
   "cell_type": "code",
   "execution_count": null,
   "id": "c42c1a63-5a3a-481c-b24c-97ac49e6dd0f",
   "metadata": {},
   "outputs": [],
   "source": [
    "from sklearn.model_selection import StratifiedShuffleSplit\n",
    "\n",
    "sss = StratifiedShuffleSplit(n_splits=1, test_size=0.2, random_state=10)\n",
    "#sss.get_n_splits(doc_label.keys(), doc_label.values())\n",
    "for index, test_index in sss.split(user_ids, labels):\n",
    "    pass\n",
    "\n",
    "for train_index, val_index in sss.split(user_ids[index], labels[index]):\n",
    "    pass\n",
    "\n",
    "print(len(user_ids[train_index]), len(val_index), len(test_index))"
   ]
  },
  {
   "cell_type": "code",
   "execution_count": null,
   "id": "cf4eac39-74c7-4f70-b3cd-73fecc2fd19d",
   "metadata": {},
   "outputs": [],
   "source": [
    "def write_users(filename, temp_ids):\n",
    "    with open(filename, 'w') as f:\n",
    "        for t in temp_ids:\n",
    "            f.write(t + '\\n')\n",
    "write_users('../data/reddit_dataset/user_splits/binary_unbalanced/train_ids.txt', user_ids[index][train_index])\n",
    "write_users('../data/reddit_dataset/user_splits/binary_unbalanced/val_ids.txt', user_ids[index][val_index])\n",
    "write_users('../data/reddit_dataset/user_splits/binary_unbalanced/test_ids.txt', user_ids[test_index])"
   ]
  },
  {
   "cell_type": "code",
   "execution_count": null,
   "id": "14987743-cfcf-4a25-a579-9e196aed93e1",
   "metadata": {},
   "outputs": [],
   "source": [
    "# Reannotatation\n",
    "labels = []\n",
    "for idx, row in df.iterrows():\n",
    "    fn_amounts = row['fn_amounts']\n",
    "    if fn_amounts < 2:\n",
    "        df.at[idx, 'fake_news_spreader'] =  0\n",
    "    else:\n",
    "        df.at[idx, 'fake_news_spreader'] =  1  \n",
    "        \n",
    "redditUserDataset.store_to_file('../data/reddit_dataset/reddit_corpus_unbalanced_filtered')"
   ]
  },
  {
   "cell_type": "markdown",
   "id": "90a1e922-15c9-44ab-9858-50a62c822bca",
   "metadata": {},
   "source": [
    "# January checks"
   ]
  },
  {
   "cell_type": "code",
   "execution_count": 3,
   "id": "a403a9c7-273c-4718-a8a5-9d20f8234965",
   "metadata": {},
   "outputs": [],
   "source": [
    "def read_userids(filename, root='../data/reddit_dataset/user_splits/binary_balanced'):\n",
    "    ids = None\n",
    "    with open(os.path.join(root, filename), 'r') as f: \n",
    "        ids = [str(line.strip()) for line in f]\n",
    "    return ids           "
   ]
  },
  {
   "cell_type": "code",
   "execution_count": 5,
   "id": "a53eaa34-8eef-416b-bb77-4b71e2667610",
   "metadata": {},
   "outputs": [],
   "source": [
    "import pickle as pkl\n",
    "file = '../data/embeddings/psycho/new_static_LIWC_features.pkl'\n",
    "liwc_embeddings = pkl.load(open(file, 'rb'))\n",
    "liwc_embeddings = pd.read_pickle(file)\n",
    "file = '../data/embeddings/psycho/new_static_personality_features.pkl'\n",
    "personality_embeddings = pd.read_pickle(file)\n",
    "psycho_embeddings = pd.concat((liwc_embeddings, personality_embeddings), join='inner', axis=1)"
   ]
  },
  {
   "cell_type": "code",
   "execution_count": 37,
   "id": "99b1e50d-423f-4d43-abcb-f872a2fd8a8d",
   "metadata": {},
   "outputs": [],
   "source": [
    "from sklearn.svm import LinearSVC\n",
    "from sklearn.svm import SVC\n",
    "from sklearn.ensemble import RandomForestClassifier\n",
    "from sklearn.linear_model import LogisticRegression\n",
    "\n",
    "# concatenate user embeddings with post embeddings \n",
    "models = [LinearSVC(max_iter=20000), SVC(max_iter=20000),\n",
    "          RandomForestClassifier(n_estimators=300), LogisticRegression(max_iter=1000)]"
   ]
  },
  {
   "cell_type": "code",
   "execution_count": 7,
   "id": "59c09e19-9000-4d39-9897-436e61b4d5f1",
   "metadata": {},
   "outputs": [],
   "source": [
    "from sklearn.metrics import accuracy_score, confusion_matrix, f1_score\n",
    "\n",
    "def print_metrics(gold, predictions):\n",
    "    cm = confusion_matrix(gold, predictions)\n",
    "    print(cm)\n",
    "    f1Score = f1_score(gold, predictions, average='macro')\n",
    "    print(\"Total f1 score macro {:3f}: \".format(f1Score))\n",
    "    f1Score = f1_score(gold, predictions, average='micro')\n",
    "    print(\"Total f1 score micro {:3f}:\".format(f1Score))\n",
    "    f1Score = f1_score(gold, predictions, average='binary')\n",
    "    print(\"Total f1 score binary {:3f}:\".format(f1Score))\n",
    "    f1Score = f1_score(gold, predictions, average='weighted')\n",
    "    print(\"Total f1 score weighted {:3f}:\".format(f1Score))\n",
    "    accuracy = accuracy_score(gold, predictions)\n",
    "    print(\"Accuracy {:3f}:\".format(accuracy))"
   ]
  },
  {
   "cell_type": "code",
   "execution_count": 1,
   "id": "a767f172-c244-4c6b-b0ea-25f96ea85ad5",
   "metadata": {},
   "outputs": [],
   "source": [
    "from classification.feature_computing import Embedder\n",
    "bert_embedder = Embedder(['../data/embeddings/bert'], 'bert', dim=768)\n",
    "usr2vec_embedder = Embedder(['../data/embeddings/usr2vec/'], 'usr2vec', dim=200)\n",
    "liwc_embedder = Embedder(['../data/embeddings/psycho/'], 'liwc', dim=83)"
   ]
  },
  {
   "cell_type": "code",
   "execution_count": 8,
   "id": "66695499-d333-4892-abad-61fa9ba64066",
   "metadata": {},
   "outputs": [
    {
     "name": "stdout",
     "output_type": "stream",
     "text": [
      "2656\n",
      "664\n",
      "830\n"
     ]
    }
   ],
   "source": [
    "train_ids = read_userids('train_ids.txt', \"../data/reddit_dataset/user_splits/binary_unbalanced\")\n",
    "val_ids = read_userids('val_ids.txt', \"../data/reddit_dataset/user_splits/binary_unbalanced\")\n",
    "test_ids = read_userids('test_ids.txt', \"../data/reddit_dataset/user_splits/binary_unbalanced\")\n",
    "print(len(train_ids))\n",
    "print(len(val_ids))\n",
    "print(len(test_ids))"
   ]
  },
  {
   "cell_type": "code",
   "execution_count": 21,
   "id": "bc0e4c31-5dca-469c-a3d4-732a44b2d364",
   "metadata": {},
   "outputs": [
    {
     "name": "stdout",
     "output_type": "stream",
     "text": [
      "2780\n",
      "1370\n"
     ]
    }
   ],
   "source": [
    "from sklearn.model_selection import train_test_split\n",
    "\n",
    "train_ids, test_ids = train_test_split(redditUserDataset.data_frame['user_id'].values, test_size=0.33, random_state=42)\n",
    "train_sample_frame = redditUserDataset.filter_user_ids(train_ids, inplace=False).data_frame\n",
    "print(len(train_sample_frame))\n",
    "#val_sample_frame = redditUserDataset.filter_user_ids(val_ids, inplace=False).data_frame\n",
    "#print(len(val_sample_frame))\n",
    "test_sample_frame = redditUserDataset.filter_user_ids(test_ids, inplace=False).data_frame\n",
    "print(len(test_sample_frame))"
   ]
  },
  {
   "cell_type": "code",
   "execution_count": 62,
   "id": "6d8c1ac6-e45f-4a49-8dcc-13821acb0824",
   "metadata": {},
   "outputs": [],
   "source": [
    "def get_users_labels(frame):\n",
    "    users = []\n",
    "    labels = []\n",
    "    for index, row in frame.iterrows():\n",
    "        users.append(row['user_id'])\n",
    "        labels.append(row['fake_news_spreader'])\n",
    "    \n",
    "    return users, labels\n",
    "\n",
    "train_users, train_labels = get_users_labels(train_sample_frame)\n",
    "test_users, test_labels = get_users_labels(test_sample_frame)\n",
    "val_users, val_labels = get_users_labels(val_sample_frame)\n",
    "\n",
    "# Get features\n",
    "train_features = np.array([liwc_embedder.embed_user(user).numpy() for user in train_users])\n",
    "#val_features = np.array([liwc_embedder.embed_user(user).numpy() for user in val_users])\n",
    "test_features = np.array([liwc_embedder.embed_user(user).numpy() for user in test_users])"
   ]
  },
  {
   "cell_type": "code",
   "execution_count": 30,
   "id": "fdf303e7-3295-4f4b-b449-222b6f03c07a",
   "metadata": {},
   "outputs": [],
   "source": [
    "users, labels = get_users_labels(redditUserDataset.data_frame)\n",
    "features = np.array([liwc_embedder.embed_user(user).numpy() for user in users])"
   ]
  },
  {
   "cell_type": "code",
   "execution_count": 44,
   "id": "1e657ac0-87b9-4083-be2f-b504c7b3fbf9",
   "metadata": {},
   "outputs": [
    {
     "name": "stdout",
     "output_type": "stream",
     "text": [
      "0.4683852690281028\n",
      "0.4247296480306189\n",
      "0.5430604079847713\n",
      "0.437192583032719\n"
     ]
    }
   ],
   "source": [
    "from sklearn.model_selection import cross_validate\n",
    "\n",
    "def f1_score_macro(estimator, X_test, y_test):\n",
    "    pred = estimator.predict(X_test)\n",
    "    return f1_score(y_test, pred, average='macro')\n",
    "\n",
    "\n",
    "infos = []\n",
    "\n",
    "for idx in range(len(models)):\n",
    "    info = cross_validate(models[idx], features, labels, cv=10, scoring=f1_score_macro)\n",
    "    infos.append(info)\n",
    "    print(np.mean(info['test_score']))"
   ]
  },
  {
   "cell_type": "code",
   "execution_count": 45,
   "id": "503fcc7b-9f29-4195-b814-c28c3681ddc6",
   "metadata": {},
   "outputs": [
    {
     "name": "stdout",
     "output_type": "stream",
     "text": [
      "0.46969566480431474\n",
      "0.424729427042312\n",
      "0.5460713072610827\n",
      "0.43723383711885033\n"
     ]
    }
   ],
   "source": [
    "infos = []\n",
    "\n",
    "for idx in range(len(models)):\n",
    "    info = cross_validate(models[idx], features, labels, cv=10, scoring=f1_score_macro)\n",
    "    infos.append(info)\n",
    "    print(np.mean(info['test_score']))"
   ]
  },
  {
   "cell_type": "code",
   "execution_count": 64,
   "id": "671950bf-b56e-4bd6-976a-7e8f24087f20",
   "metadata": {},
   "outputs": [
    {
     "name": "stdout",
     "output_type": "stream",
     "text": [
      "Evaluating...\n",
      "[[1008   11]\n",
      " [ 334   17]]\n",
      "Total f1 score macro 0.471793: \n",
      "Total f1 score micro 0.748175:\n",
      "Total f1 score binary 0.089710:\n",
      "Total f1 score weighted 0.658093:\n",
      "Accuracy 0.748175:\n",
      "####################################################################################################\n",
      "Evaluating...\n",
      "[[1019    0]\n",
      " [ 351    0]]\n",
      "Total f1 score macro 0.426538: \n",
      "Total f1 score micro 0.743796:\n",
      "Total f1 score binary 0.000000:\n",
      "Total f1 score weighted 0.634515:\n",
      "Accuracy 0.743796:\n",
      "####################################################################################################\n",
      "Evaluating...\n",
      "[[999  20]\n",
      " [300  51]]\n",
      "Total f1 score macro 0.551828: \n",
      "Total f1 score micro 0.766423:\n",
      "Total f1 score binary 0.241706:\n",
      "Total f1 score weighted 0.703041:\n",
      "Accuracy 0.766423:\n",
      "####################################################################################################\n",
      "Evaluating...\n",
      "[[1017    2]\n",
      " [ 346    5]]\n",
      "Total f1 score macro 0.440919: \n",
      "Total f1 score micro 0.745985:\n",
      "Total f1 score binary 0.027933:\n",
      "Total f1 score weighted 0.642287:\n",
      "Accuracy 0.745985:\n",
      "####################################################################################################\n"
     ]
    }
   ],
   "source": [
    "from sklearn.model_selection import cross_val_score\n",
    "\n",
    "for idx in range(len(models)):\n",
    "    models[idx].fit(train_features, train_labels)\n",
    "    print(\"Evaluating...\")\n",
    "    pred = models[idx].predict(test_features)\n",
    "    print_metrics(test_labels, pred)\n",
    "    print(\"#\" * 100)"
   ]
  },
  {
   "cell_type": "code",
   "execution_count": 6,
   "id": "8fb11377-455f-4d5a-87ed-438927702a2a",
   "metadata": {},
   "outputs": [
    {
     "name": "stdout",
     "output_type": "stream",
     "text": [
      "3064\n",
      "1086\n"
     ]
    }
   ],
   "source": [
    "def get_names_average(df):\n",
    "    names = []\n",
    "    average = []\n",
    "    for col in psycho_embeddings.columns:\n",
    "        average.append(np.mean(psycho_embeddings[col].values))\n",
    "        names.append(col)\n",
    "    \n",
    "    return average, names\n",
    "\n",
    "positive_users_df = main_df[main_df['fake_news_spreader'] == 0]\n",
    "positive_users = positive_users_df['user_id'].values\n",
    "print(len(positive_users))\n",
    "\n",
    "negative_users_df = main_df[main_df['fake_news_spreader'] == 1]\n",
    "negative_users = negative_users_df['user_id'].values\n",
    "print(len(negative_users))\n",
    "\n",
    "pos_avg, pos_names = get_names_average(psycho_embeddings[psycho_embeddings.index.isin(positive_users)])\n",
    "neg_avg, neg_names = get_names_average(psycho_embeddings[psycho_embeddings.index.isin(negative_users)])\n",
    "full_avg, full_names = get_names_average(psycho_embeddings)"
   ]
  },
  {
   "cell_type": "code",
   "execution_count": 12,
   "id": "6ac26f44-c517-4d7e-a157-ad8351fb751c",
   "metadata": {},
   "outputs": [],
   "source": [
    "from matplotlib import pyplot as plt\n",
    "from matplotlib.pyplot import figure\n",
    "\n",
    "def f_importances(coef, names, fig_name, color, description, coef2=None, color2=None):\n",
    "    imp = coef\n",
    "    fig, ax = plt.subplots()\n",
    "    #imp,names = zip(*sorted(zip(imp,names)))\n",
    "    ax.barh(range(len(names)), imp, align='center', color=color)\n",
    "    if coef2 is not None:\n",
    "        ax.barh(range(len(names)), coef2, align='center', color=color2)\n",
    "\n",
    "        # Add some text for labels, title and custom x-axis tick labels, etc.\n",
    "    ax.set_ylabel('Psycho Features')\n",
    "    ax.set_yticks(range(len(names)), names)\n",
    "    ax.set_title(description)\n",
    "    \n",
    "    plt.savefig(fig_name, dpi=100)\n",
    "    plt.show()\n",
    "\n",
    "plt.rcParams[\"figure.figsize\"] = (10,18)\n"
   ]
  },
  {
   "cell_type": "code",
   "execution_count": null,
   "id": "d7e6e1d8-85e2-44a9-97be-5e082f1a5efb",
   "metadata": {},
   "outputs": [],
   "source": [
    "\n",
    "    \n",
    "\n",
    "#f_importances(models[0].coef_[0], names, '../data/plots/lsvc_liwc_importance.png')\n",
    "f_importances(pos_avg, pos_names, '../data/plots/pos_frame.png', color='b', description=\"Average of each psycho feature for the RN class\")\n",
    "f_importances(neg_avg, neg_names, '../data/plots/neg_frame.png', color='r', description=\"Average of each psycho feature for the FN class\")\n",
    "f_importances(full_avg, full_names, '../data/plots/full_frame.png', color='b', description=\"Average of each psycho feature for both classes\")\n"
   ]
  },
  {
   "cell_type": "code",
   "execution_count": 13,
   "id": "3cf21b04-af74-47af-ae8d-f5845eef7548",
   "metadata": {},
   "outputs": [
    {
     "name": "stderr",
     "output_type": "stream",
     "text": [
      "No artists with labels found to put in legend.  Note that artists whose label start with an underscore are ignored when legend() is called with no argument.\n"
     ]
    },
    {
     "data": {
      "image/png": "[encoded data removed]",
      "text/plain": [
       "<Figure size 1440x720 with 1 Axes>"
      ]
     },
     "metadata": {
      "needs_background": "light"
     },
     "output_type": "display_data"
    }
   ],
   "source": [
    "f_importances(pos_avg, pos_names, '../data/plots/pos_frame.png', color='b', description=\"Average of each psycho feature for the RN class\", coef2=neg_avg,color2='r')\n"
   ]
  },
  {
   "cell_type": "code",
   "execution_count": 166,
   "id": "08390101-f94c-4e75-a3ec-6ef4668e12b7",
   "metadata": {},
   "outputs": [
    {
     "ename": "TypeError",
     "evalue": "set_ticks() takes 2 positional arguments but 3 were given",
     "output_type": "error",
     "traceback": [
      "\u001b[0;31m---------------------------------------------------------------------------\u001b[0m",
      "\u001b[0;31mTypeError\u001b[0m                                 Traceback (most recent call last)",
      "\u001b[0;32m<ipython-input-166-2550cc4ba5a5>\u001b[0m in \u001b[0;36m<module>\u001b[0;34m\u001b[0m\n\u001b[1;32m     17\u001b[0m \u001b[0max\u001b[0m\u001b[0;34m.\u001b[0m\u001b[0mset_ylabel\u001b[0m\u001b[0;34m(\u001b[0m\u001b[0;34m'Scores'\u001b[0m\u001b[0;34m)\u001b[0m\u001b[0;34m\u001b[0m\u001b[0;34m\u001b[0m\u001b[0m\n\u001b[1;32m     18\u001b[0m \u001b[0max\u001b[0m\u001b[0;34m.\u001b[0m\u001b[0mset_title\u001b[0m\u001b[0;34m(\u001b[0m\u001b[0;34m'Scores by group and gender'\u001b[0m\u001b[0;34m)\u001b[0m\u001b[0;34m\u001b[0m\u001b[0;34m\u001b[0m\u001b[0m\n\u001b[0;32m---> 19\u001b[0;31m \u001b[0max\u001b[0m\u001b[0;34m.\u001b[0m\u001b[0mset_xticks\u001b[0m\u001b[0;34m(\u001b[0m\u001b[0mx\u001b[0m\u001b[0;34m,\u001b[0m \u001b[0mlabels\u001b[0m\u001b[0;34m)\u001b[0m\u001b[0;34m\u001b[0m\u001b[0;34m\u001b[0m\u001b[0m\n\u001b[0m\u001b[1;32m     20\u001b[0m \u001b[0max\u001b[0m\u001b[0;34m.\u001b[0m\u001b[0mlegend\u001b[0m\u001b[0;34m(\u001b[0m\u001b[0;34m)\u001b[0m\u001b[0;34m\u001b[0m\u001b[0;34m\u001b[0m\u001b[0m\n\u001b[1;32m     21\u001b[0m \u001b[0;34m\u001b[0m\u001b[0m\n",
      "\u001b[0;32m~/anaconda3/envs/fake_news_project/lib/python3.9/site-packages/matplotlib/axes/_base.py\u001b[0m in \u001b[0;36mwrapper\u001b[0;34m(self, *args, **kwargs)\u001b[0m\n\u001b[1;32m     71\u001b[0m \u001b[0;34m\u001b[0m\u001b[0m\n\u001b[1;32m     72\u001b[0m         \u001b[0;32mdef\u001b[0m \u001b[0mwrapper\u001b[0m\u001b[0;34m(\u001b[0m\u001b[0mself\u001b[0m\u001b[0;34m,\u001b[0m \u001b[0;34m*\u001b[0m\u001b[0margs\u001b[0m\u001b[0;34m,\u001b[0m \u001b[0;34m**\u001b[0m\u001b[0mkwargs\u001b[0m\u001b[0;34m)\u001b[0m\u001b[0;34m:\u001b[0m\u001b[0;34m\u001b[0m\u001b[0;34m\u001b[0m\u001b[0m\n\u001b[0;32m---> 73\u001b[0;31m             \u001b[0;32mreturn\u001b[0m \u001b[0mget_method\u001b[0m\u001b[0;34m(\u001b[0m\u001b[0mself\u001b[0m\u001b[0;34m)\u001b[0m\u001b[0;34m(\u001b[0m\u001b[0;34m*\u001b[0m\u001b[0margs\u001b[0m\u001b[0;34m,\u001b[0m \u001b[0;34m**\u001b[0m\u001b[0mkwargs\u001b[0m\u001b[0;34m)\u001b[0m\u001b[0;34m\u001b[0m\u001b[0;34m\u001b[0m\u001b[0m\n\u001b[0m\u001b[1;32m     74\u001b[0m \u001b[0;34m\u001b[0m\u001b[0m\n\u001b[1;32m     75\u001b[0m         \u001b[0mwrapper\u001b[0m\u001b[0;34m.\u001b[0m\u001b[0m__module__\u001b[0m \u001b[0;34m=\u001b[0m \u001b[0mowner\u001b[0m\u001b[0;34m.\u001b[0m\u001b[0m__module__\u001b[0m\u001b[0;34m\u001b[0m\u001b[0;34m\u001b[0m\u001b[0m\n",
      "\u001b[0;31mTypeError\u001b[0m: set_ticks() takes 2 positional arguments but 3 were given"
     ]
    },
    {
     "data": {
      "image/png": "[encoded data removed]",
      "text/plain": [
       "<Figure size 720x1296 with 1 Axes>"
      ]
     },
     "metadata": {
      "needs_background": "light"
     },
     "output_type": "display_data"
    }
   ],
   "source": [
    "import matplotlib.pyplot as plt\n",
    "import numpy as np\n",
    "\n",
    "\n",
    "labels = ['G1', 'G2', 'G3', 'G4', 'G5']\n",
    "men_means = [20, 34, 30, 35, 27]\n",
    "women_means = [25, 32, 34, 20, 25]\n",
    "\n",
    "x = np.arange(len(labels))  # the label locations\n",
    "width = 0.35  # the width of the bars\n",
    "\n",
    "fig, ax = plt.subplots()\n",
    "rects1 = ax.bar(x - width/2, men_means, width, label='Men')\n",
    "rects2 = ax.bar(x + width/2, women_means, width, label='Women')\n",
    "\n",
    "# Add some text for labels, title and custom x-axis tick labels, etc.\n",
    "ax.set_ylabel('Scores')\n",
    "ax.set_title('Scores by group and gender')\n",
    "ax.set_xticks(x, labels)\n",
    "ax.legend()\n",
    "\n",
    "ax.bar_label(rects1, padding=3)\n",
    "ax.bar_label(rects2, padding=3)\n",
    "\n",
    "fig.tight_layout()\n",
    "\n",
    "plt.show()"
   ]
  },
  {
   "cell_type": "code",
   "execution_count": 169,
   "id": "1d4af099-00ea-4635-b21b-8f263e9e416e",
   "metadata": {},
   "outputs": [
    {
     "data": {
      "text/plain": [
       "'3.4.2'"
      ]
     },
     "execution_count": 169,
     "metadata": {},
     "output_type": "execute_result"
    }
   ],
   "source": [
    "import matplotlib\n",
    "matplotlib.__version__"
   ]
  },
  {
   "cell_type": "code",
   "execution_count": null,
   "id": "0f1f3fd9-b986-41a0-8ab2-01a2787f55c7",
   "metadata": {},
   "outputs": [],
   "source": []
  }
 ],
 "metadata": {
  "kernelspec": {
   "display_name": "Python 3",
   "language": "python",
   "name": "python3"
  },
  "language_info": {
   "codemirror_mode": {
    "name": "ipython",
    "version": 3
   },
   "file_extension": ".py",
   "mimetype": "text/x-python",
   "name": "python",
   "nbconvert_exporter": "python",
   "pygments_lexer": "ipython3",
   "version": "3.9.5"
  }
 },
 "nbformat": 4,
 "nbformat_minor": 5
}
